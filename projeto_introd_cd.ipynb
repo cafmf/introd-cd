{
  "nbformat": 4,
  "nbformat_minor": 0,
  "metadata": {
    "colab": {
      "name": "projeto-introd-cd.ipynb",
      "provenance": [],
      "collapsed_sections": [],
      "include_colab_link": true
    },
    "kernelspec": {
      "name": "python3",
      "display_name": "Python 3"
    }
  },
  "cells": [
    {
      "cell_type": "markdown",
      "metadata": {
        "id": "view-in-github",
        "colab_type": "text"
      },
      "source": [
        "<a href=\"https://colab.research.google.com/github/cafmf/introd-cd/blob/master/projeto_introd_cd.ipynb\" target=\"_parent\"><img src=\"https://colab.research.google.com/assets/colab-badge.svg\" alt=\"Open In Colab\"/></a>"
      ]
    },
    {
      "cell_type": "markdown",
      "metadata": {
        "id": "VgDHr1w5ItKB",
        "colab_type": "text"
      },
      "source": [
        "1 - Leitura dos dados sobre as avalição feitas ao serviço do airbnb na cidade de Nova York"
      ]
    },
    {
      "cell_type": "code",
      "metadata": {
        "id": "TNEbk1Xa9VR5",
        "colab_type": "code",
        "colab": {}
      },
      "source": [
        "import pandas as pd\n",
        "import numpy as np\n",
        "url = 'https://raw.githubusercontent.com/cafmf/introd-cd/master/AB_NYC_2019.csv'\n",
        "airbnb_df = pd.read_csv(url)"
      ],
      "execution_count": 0,
      "outputs": []
    },
    {
      "cell_type": "markdown",
      "metadata": {
        "id": "q7oJ_BPWKSGy",
        "colab_type": "text"
      },
      "source": [
        "2 - Visualizando tamanho do frame\n"
      ]
    },
    {
      "cell_type": "code",
      "metadata": {
        "id": "9Z064XI0kQIH",
        "colab_type": "code",
        "outputId": "d157fd68-a11b-4678-a6eb-85583d702706",
        "colab": {
          "base_uri": "https://localhost:8080/",
          "height": 34
        }
      },
      "source": [
        "airbnb_df.shape"
      ],
      "execution_count": 57,
      "outputs": [
        {
          "output_type": "execute_result",
          "data": {
            "text/plain": [
              "(48895, 16)"
            ]
          },
          "metadata": {
            "tags": []
          },
          "execution_count": 57
        }
      ]
    },
    {
      "cell_type": "markdown",
      "metadata": {
        "id": "VCqprg8zkD5c",
        "colab_type": "text"
      },
      "source": [
        "3 - Descrevendo os dados para análise de possiveis valores com muita discrepância. Baseado na descrição dos dados, os campos de price e minimum_nights são passíveis de possuir outliers"
      ]
    },
    {
      "cell_type": "code",
      "metadata": {
        "id": "L98S9C8EbQej",
        "colab_type": "code",
        "outputId": "9779f0d3-9439-4960-f90f-fc02d2497869",
        "colab": {
          "base_uri": "https://localhost:8080/",
          "height": 297
        }
      },
      "source": [
        "airbnb_df.describe()"
      ],
      "execution_count": 58,
      "outputs": [
        {
          "output_type": "execute_result",
          "data": {
            "text/html": [
              "<div>\n",
              "<style scoped>\n",
              "    .dataframe tbody tr th:only-of-type {\n",
              "        vertical-align: middle;\n",
              "    }\n",
              "\n",
              "    .dataframe tbody tr th {\n",
              "        vertical-align: top;\n",
              "    }\n",
              "\n",
              "    .dataframe thead th {\n",
              "        text-align: right;\n",
              "    }\n",
              "</style>\n",
              "<table border=\"1\" class=\"dataframe\">\n",
              "  <thead>\n",
              "    <tr style=\"text-align: right;\">\n",
              "      <th></th>\n",
              "      <th>id</th>\n",
              "      <th>host_id</th>\n",
              "      <th>latitude</th>\n",
              "      <th>longitude</th>\n",
              "      <th>price</th>\n",
              "      <th>minimum_nights</th>\n",
              "      <th>number_of_reviews</th>\n",
              "      <th>reviews_per_month</th>\n",
              "      <th>calculated_host_listings_count</th>\n",
              "      <th>availability_365</th>\n",
              "    </tr>\n",
              "  </thead>\n",
              "  <tbody>\n",
              "    <tr>\n",
              "      <th>count</th>\n",
              "      <td>4.889500e+04</td>\n",
              "      <td>4.889500e+04</td>\n",
              "      <td>48895.000000</td>\n",
              "      <td>48895.000000</td>\n",
              "      <td>48895.000000</td>\n",
              "      <td>48895.000000</td>\n",
              "      <td>48895.000000</td>\n",
              "      <td>38843.000000</td>\n",
              "      <td>48895.000000</td>\n",
              "      <td>48895.000000</td>\n",
              "    </tr>\n",
              "    <tr>\n",
              "      <th>mean</th>\n",
              "      <td>1.901714e+07</td>\n",
              "      <td>6.762001e+07</td>\n",
              "      <td>40.728949</td>\n",
              "      <td>-73.952170</td>\n",
              "      <td>152.720687</td>\n",
              "      <td>7.029962</td>\n",
              "      <td>23.274466</td>\n",
              "      <td>1.373221</td>\n",
              "      <td>7.143982</td>\n",
              "      <td>112.781327</td>\n",
              "    </tr>\n",
              "    <tr>\n",
              "      <th>std</th>\n",
              "      <td>1.098311e+07</td>\n",
              "      <td>7.861097e+07</td>\n",
              "      <td>0.054530</td>\n",
              "      <td>0.046157</td>\n",
              "      <td>240.154170</td>\n",
              "      <td>20.510550</td>\n",
              "      <td>44.550582</td>\n",
              "      <td>1.680442</td>\n",
              "      <td>32.952519</td>\n",
              "      <td>131.622289</td>\n",
              "    </tr>\n",
              "    <tr>\n",
              "      <th>min</th>\n",
              "      <td>2.539000e+03</td>\n",
              "      <td>2.438000e+03</td>\n",
              "      <td>40.499790</td>\n",
              "      <td>-74.244420</td>\n",
              "      <td>0.000000</td>\n",
              "      <td>1.000000</td>\n",
              "      <td>0.000000</td>\n",
              "      <td>0.010000</td>\n",
              "      <td>1.000000</td>\n",
              "      <td>0.000000</td>\n",
              "    </tr>\n",
              "    <tr>\n",
              "      <th>25%</th>\n",
              "      <td>9.471945e+06</td>\n",
              "      <td>7.822033e+06</td>\n",
              "      <td>40.690100</td>\n",
              "      <td>-73.983070</td>\n",
              "      <td>69.000000</td>\n",
              "      <td>1.000000</td>\n",
              "      <td>1.000000</td>\n",
              "      <td>0.190000</td>\n",
              "      <td>1.000000</td>\n",
              "      <td>0.000000</td>\n",
              "    </tr>\n",
              "    <tr>\n",
              "      <th>50%</th>\n",
              "      <td>1.967728e+07</td>\n",
              "      <td>3.079382e+07</td>\n",
              "      <td>40.723070</td>\n",
              "      <td>-73.955680</td>\n",
              "      <td>106.000000</td>\n",
              "      <td>3.000000</td>\n",
              "      <td>5.000000</td>\n",
              "      <td>0.720000</td>\n",
              "      <td>1.000000</td>\n",
              "      <td>45.000000</td>\n",
              "    </tr>\n",
              "    <tr>\n",
              "      <th>75%</th>\n",
              "      <td>2.915218e+07</td>\n",
              "      <td>1.074344e+08</td>\n",
              "      <td>40.763115</td>\n",
              "      <td>-73.936275</td>\n",
              "      <td>175.000000</td>\n",
              "      <td>5.000000</td>\n",
              "      <td>24.000000</td>\n",
              "      <td>2.020000</td>\n",
              "      <td>2.000000</td>\n",
              "      <td>227.000000</td>\n",
              "    </tr>\n",
              "    <tr>\n",
              "      <th>max</th>\n",
              "      <td>3.648724e+07</td>\n",
              "      <td>2.743213e+08</td>\n",
              "      <td>40.913060</td>\n",
              "      <td>-73.712990</td>\n",
              "      <td>10000.000000</td>\n",
              "      <td>1250.000000</td>\n",
              "      <td>629.000000</td>\n",
              "      <td>58.500000</td>\n",
              "      <td>327.000000</td>\n",
              "      <td>365.000000</td>\n",
              "    </tr>\n",
              "  </tbody>\n",
              "</table>\n",
              "</div>"
            ],
            "text/plain": [
              "                 id  ...  availability_365\n",
              "count  4.889500e+04  ...      48895.000000\n",
              "mean   1.901714e+07  ...        112.781327\n",
              "std    1.098311e+07  ...        131.622289\n",
              "min    2.539000e+03  ...          0.000000\n",
              "25%    9.471945e+06  ...          0.000000\n",
              "50%    1.967728e+07  ...         45.000000\n",
              "75%    2.915218e+07  ...        227.000000\n",
              "max    3.648724e+07  ...        365.000000\n",
              "\n",
              "[8 rows x 10 columns]"
            ]
          },
          "metadata": {
            "tags": []
          },
          "execution_count": 58
        }
      ]
    },
    {
      "cell_type": "markdown",
      "metadata": {
        "id": "Z7_AQnUwfuiG",
        "colab_type": "text"
      },
      "source": [
        "4 - Visualização para análise de outliers para o campo price utilizando log na base 10 para otimizar visualição"
      ]
    },
    {
      "cell_type": "code",
      "metadata": {
        "id": "Ckq4TDBEfu5K",
        "colab_type": "code",
        "outputId": "f3c48f66-7ede-49a2-b95d-ca9de5597be8",
        "colab": {
          "base_uri": "https://localhost:8080/",
          "height": 283
        }
      },
      "source": [
        "\n",
        "airbnb_df['price_log'] = np.log10(airbnb_df[airbnb_df['price'] > 0]['price'])\n",
        "airbnb_df['price_log'].plot.box()"
      ],
      "execution_count": 59,
      "outputs": [
        {
          "output_type": "execute_result",
          "data": {
            "text/plain": [
              "<matplotlib.axes._subplots.AxesSubplot at 0x7f18e3489da0>"
            ]
          },
          "metadata": {
            "tags": []
          },
          "execution_count": 59
        },
        {
          "output_type": "display_data",
          "data": {
            "image/png": "[encoded data removed]",
            "text/plain": [
              "<Figure size 432x288 with 1 Axes>"
            ]
          },
          "metadata": {
            "tags": []
          }
        }
      ]
    },
    {
      "cell_type": "markdown",
      "metadata": {
        "id": "L_aikTs7-p9h",
        "colab_type": "text"
      },
      "source": [
        "5 - Removendo outliers para o campo \"Price\" utilizando método de tukey"
      ]
    },
    {
      "cell_type": "code",
      "metadata": {
        "id": "3lEE1GFB-7Od",
        "colab_type": "code",
        "outputId": "dda55f6b-b276-4748-b517-a97d78c12446",
        "colab": {
          "base_uri": "https://localhost:8080/",
          "height": 34
        }
      },
      "source": [
        "q1 = airbnb_df['price'].quantile(q=0.25)\n",
        "q3 = airbnb_df['price'].quantile(q=0.75)\n",
        "iqr = q3 - q1\n",
        "airbnb_df = airbnb_df[(airbnb_df['price'] > (q1-1.5*iqr)) & (airbnb_df['price'] < (q3+1.5*iqr))]\n",
        "airbnb_df.shape"
      ],
      "execution_count": 60,
      "outputs": [
        {
          "output_type": "execute_result",
          "data": {
            "text/plain": [
              "(45918, 17)"
            ]
          },
          "metadata": {
            "tags": []
          },
          "execution_count": 60
        }
      ]
    },
    {
      "cell_type": "markdown",
      "metadata": {
        "id": "_8C6q2p-jpnM",
        "colab_type": "text"
      },
      "source": [
        "6 - Visualização para análise de outliers para o campo minimum_nights utilizando log na base 10 para otimizar visualição"
      ]
    },
    {
      "cell_type": "code",
      "metadata": {
        "id": "k6bOP-tPKlbj",
        "colab_type": "code",
        "outputId": "d5f3738f-abe6-404c-e465-5c2248bd9b27",
        "colab": {
          "base_uri": "https://localhost:8080/",
          "height": 283
        }
      },
      "source": [
        "airbnb_df['minimum_nights_log'] = np.log10(airbnb_df[airbnb_df['minimum_nights'] > 0]['minimum_nights'])\n",
        "airbnb_df['minimum_nights_log'].plot.box()"
      ],
      "execution_count": 61,
      "outputs": [
        {
          "output_type": "execute_result",
          "data": {
            "text/plain": [
              "<matplotlib.axes._subplots.AxesSubplot at 0x7f18e3477b38>"
            ]
          },
          "metadata": {
            "tags": []
          },
          "execution_count": 61
        },
        {
          "output_type": "display_data",
          "data": {
            "image/png": "[encoded data removed]",
            "text/plain": [
              "<Figure size 432x288 with 1 Axes>"
            ]
          },
          "metadata": {
            "tags": []
          }
        }
      ]
    },
    {
      "cell_type": "markdown",
      "metadata": {
        "id": "DzY74GFtwJLs",
        "colab_type": "text"
      },
      "source": [
        "7 - Removendo outliers para o campo minimum_nights utilizando método de tukey"
      ]
    },
    {
      "cell_type": "code",
      "metadata": {
        "id": "I8VUfpPPwH_1",
        "colab_type": "code",
        "outputId": "c57f2bbc-0b11-4d7a-bb4d-891abf7e9db5",
        "colab": {
          "base_uri": "https://localhost:8080/",
          "height": 34
        }
      },
      "source": [
        "q1 = airbnb_df['minimum_nights'].quantile(q=0.25)\n",
        "q3 = airbnb_df['minimum_nights'].quantile(q=0.75)\n",
        "iqr = q3 - q1\n",
        "airbnb_df = airbnb_df[(airbnb_df['minimum_nights'] > (q1-1.5*iqr)) & (airbnb_df['minimum_nights'] < (q3+1.5*iqr))]\n",
        "airbnb_df.shape"
      ],
      "execution_count": 62,
      "outputs": [
        {
          "output_type": "execute_result",
          "data": {
            "text/plain": [
              "(39707, 18)"
            ]
          },
          "metadata": {
            "tags": []
          },
          "execution_count": 62
        }
      ]
    },
    {
      "cell_type": "markdown",
      "metadata": {
        "id": "iqurv4OAz6i7",
        "colab_type": "text"
      },
      "source": [
        "8 - Fazendo análise de campos nulos"
      ]
    },
    {
      "cell_type": "code",
      "metadata": {
        "id": "C8E6hTEo0Jfv",
        "colab_type": "code",
        "outputId": "1c2cdc2a-8088-481f-b5bc-2167357601b2",
        "colab": {
          "base_uri": "https://localhost:8080/",
          "height": 340
        }
      },
      "source": [
        "airbnb_df.isnull().sum()"
      ],
      "execution_count": 63,
      "outputs": [
        {
          "output_type": "execute_result",
          "data": {
            "text/plain": [
              "id                                   0\n",
              "name                                15\n",
              "host_id                              0\n",
              "host_name                           20\n",
              "neighbourhood_group                  0\n",
              "neighbourhood                        0\n",
              "latitude                             0\n",
              "longitude                            0\n",
              "room_type                            0\n",
              "price                                0\n",
              "minimum_nights                       0\n",
              "number_of_reviews                    0\n",
              "last_review                       6691\n",
              "reviews_per_month                 6691\n",
              "calculated_host_listings_count       0\n",
              "availability_365                     0\n",
              "price_log                            9\n",
              "minimum_nights_log                   0\n",
              "dtype: int64"
            ]
          },
          "metadata": {
            "tags": []
          },
          "execution_count": 63
        }
      ]
    },
    {
      "cell_type": "markdown",
      "metadata": {
        "id": "40HY2Ln835wk",
        "colab_type": "text"
      },
      "source": [
        "9 - Verificando dados duplicados"
      ]
    },
    {
      "cell_type": "code",
      "metadata": {
        "id": "_kaVvKz05909",
        "colab_type": "code",
        "colab": {
          "base_uri": "https://localhost:8080/",
          "height": 34
        },
        "outputId": "57423782-ca32-4c2f-a6c0-fdea48c585f9"
      },
      "source": [
        "duplicated = airbnb_df[airbnb_df.duplicated()]\n",
        "len(duplicated)"
      ],
      "execution_count": 65,
      "outputs": [
        {
          "output_type": "execute_result",
          "data": {
            "text/plain": [
              "0"
            ]
          },
          "metadata": {
            "tags": []
          },
          "execution_count": 65
        }
      ]
    },
    {
      "cell_type": "markdown",
      "metadata": {
        "id": "ZirCGjtX8V6o",
        "colab_type": "text"
      },
      "source": [
        "10 - Identificando hospedagens cujo número de avaliações se aproximam da média sem considerar nulos para a posição de number_of_reviews"
      ]
    },
    {
      "cell_type": "code",
      "metadata": {
        "id": "LfLhOMQS9Isv",
        "colab_type": "code",
        "colab": {
          "base_uri": "https://localhost:8080/",
          "height": 306
        },
        "outputId": "d0b224b6-4c08-430a-d487-90bee01c3866"
      },
      "source": [
        "# uma vez removido os outliers, será considerado a média como medida de tendência central. Devido ao resultado só considera dados sobre avalição,\n",
        "# os campos nulos serão desconsiderados\n",
        "airbnb_without_null_reviews = airbnb_df.dropna(axis=0)\n",
        "std = airbnb_without_null_reviews['number_of_reviews'].std()\n",
        "mean = airbnb_without_null_reviews['number_of_reviews'].mean()\n",
        "minor_threshold = std - mean\n",
        "major_threshold = std + mean\n",
        "most_rated_per_neigborhood = airbnb_without_null_reviews[(airbnb_df['number_of_reviews'] >= minor_threshold) & (airbnb_df['number_of_reviews'] <= major_threshold)]\n",
        "most_rated_per_neigborhood.head()"
      ],
      "execution_count": 66,
      "outputs": [
        {
          "output_type": "stream",
          "text": [
            "/usr/local/lib/python3.6/dist-packages/ipykernel_launcher.py:6: UserWarning: Boolean Series key will be reindexed to match DataFrame index.\n",
            "  \n"
          ],
          "name": "stderr"
        },
        {
          "output_type": "execute_result",
          "data": {
            "text/html": [
              "<div>\n",
              "<style scoped>\n",
              "    .dataframe tbody tr th:only-of-type {\n",
              "        vertical-align: middle;\n",
              "    }\n",
              "\n",
              "    .dataframe tbody tr th {\n",
              "        vertical-align: top;\n",
              "    }\n",
              "\n",
              "    .dataframe thead th {\n",
              "        text-align: right;\n",
              "    }\n",
              "</style>\n",
              "<table border=\"1\" class=\"dataframe\">\n",
              "  <thead>\n",
              "    <tr style=\"text-align: right;\">\n",
              "      <th></th>\n",
              "      <th>id</th>\n",
              "      <th>name</th>\n",
              "      <th>host_id</th>\n",
              "      <th>host_name</th>\n",
              "      <th>neighbourhood_group</th>\n",
              "      <th>neighbourhood</th>\n",
              "      <th>latitude</th>\n",
              "      <th>longitude</th>\n",
              "      <th>room_type</th>\n",
              "      <th>price</th>\n",
              "      <th>minimum_nights</th>\n",
              "      <th>number_of_reviews</th>\n",
              "      <th>last_review</th>\n",
              "      <th>reviews_per_month</th>\n",
              "      <th>calculated_host_listings_count</th>\n",
              "      <th>availability_365</th>\n",
              "      <th>price_log</th>\n",
              "      <th>minimum_nights_log</th>\n",
              "    </tr>\n",
              "  </thead>\n",
              "  <tbody>\n",
              "    <tr>\n",
              "      <th>1</th>\n",
              "      <td>2595</td>\n",
              "      <td>Skylit Midtown Castle</td>\n",
              "      <td>2845</td>\n",
              "      <td>Jennifer</td>\n",
              "      <td>Manhattan</td>\n",
              "      <td>Midtown</td>\n",
              "      <td>40.75362</td>\n",
              "      <td>-73.98377</td>\n",
              "      <td>Entire home/apt</td>\n",
              "      <td>225</td>\n",
              "      <td>1</td>\n",
              "      <td>45</td>\n",
              "      <td>2019-05-21</td>\n",
              "      <td>0.38</td>\n",
              "      <td>2</td>\n",
              "      <td>355</td>\n",
              "      <td>2.352183</td>\n",
              "      <td>0.000000</td>\n",
              "    </tr>\n",
              "    <tr>\n",
              "      <th>5</th>\n",
              "      <td>5099</td>\n",
              "      <td>Large Cozy 1 BR Apartment In Midtown East</td>\n",
              "      <td>7322</td>\n",
              "      <td>Chris</td>\n",
              "      <td>Manhattan</td>\n",
              "      <td>Murray Hill</td>\n",
              "      <td>40.74767</td>\n",
              "      <td>-73.97500</td>\n",
              "      <td>Entire home/apt</td>\n",
              "      <td>200</td>\n",
              "      <td>3</td>\n",
              "      <td>74</td>\n",
              "      <td>2019-06-22</td>\n",
              "      <td>0.59</td>\n",
              "      <td>1</td>\n",
              "      <td>129</td>\n",
              "      <td>2.301030</td>\n",
              "      <td>0.477121</td>\n",
              "    </tr>\n",
              "    <tr>\n",
              "      <th>10</th>\n",
              "      <td>5295</td>\n",
              "      <td>Beautiful 1br on Upper West Side</td>\n",
              "      <td>7702</td>\n",
              "      <td>Lena</td>\n",
              "      <td>Manhattan</td>\n",
              "      <td>Upper West Side</td>\n",
              "      <td>40.80316</td>\n",
              "      <td>-73.96545</td>\n",
              "      <td>Entire home/apt</td>\n",
              "      <td>135</td>\n",
              "      <td>5</td>\n",
              "      <td>53</td>\n",
              "      <td>2019-06-22</td>\n",
              "      <td>0.43</td>\n",
              "      <td>1</td>\n",
              "      <td>6</td>\n",
              "      <td>2.130334</td>\n",
              "      <td>0.698970</td>\n",
              "    </tr>\n",
              "    <tr>\n",
              "      <th>18</th>\n",
              "      <td>7726</td>\n",
              "      <td>Hip Historic Brownstone Apartment with Backyard</td>\n",
              "      <td>20950</td>\n",
              "      <td>Adam And Charity</td>\n",
              "      <td>Brooklyn</td>\n",
              "      <td>Crown Heights</td>\n",
              "      <td>40.67592</td>\n",
              "      <td>-73.94694</td>\n",
              "      <td>Entire home/apt</td>\n",
              "      <td>99</td>\n",
              "      <td>3</td>\n",
              "      <td>53</td>\n",
              "      <td>2019-06-22</td>\n",
              "      <td>4.44</td>\n",
              "      <td>1</td>\n",
              "      <td>21</td>\n",
              "      <td>1.995635</td>\n",
              "      <td>0.477121</td>\n",
              "    </tr>\n",
              "    <tr>\n",
              "      <th>22</th>\n",
              "      <td>8025</td>\n",
              "      <td>CBG Helps Haiti Room#2.5</td>\n",
              "      <td>22486</td>\n",
              "      <td>Lisel</td>\n",
              "      <td>Brooklyn</td>\n",
              "      <td>Park Slope</td>\n",
              "      <td>40.67989</td>\n",
              "      <td>-73.97798</td>\n",
              "      <td>Private room</td>\n",
              "      <td>80</td>\n",
              "      <td>1</td>\n",
              "      <td>39</td>\n",
              "      <td>2019-01-01</td>\n",
              "      <td>0.37</td>\n",
              "      <td>6</td>\n",
              "      <td>364</td>\n",
              "      <td>1.903090</td>\n",
              "      <td>0.000000</td>\n",
              "    </tr>\n",
              "  </tbody>\n",
              "</table>\n",
              "</div>"
            ],
            "text/plain": [
              "      id  ... minimum_nights_log\n",
              "1   2595  ...           0.000000\n",
              "5   5099  ...           0.477121\n",
              "10  5295  ...           0.698970\n",
              "18  7726  ...           0.477121\n",
              "22  8025  ...           0.000000\n",
              "\n",
              "[5 rows x 18 columns]"
            ]
          },
          "metadata": {
            "tags": []
          },
          "execution_count": 66
        }
      ]
    },
    {
      "cell_type": "markdown",
      "metadata": {
        "id": "yK-3IHcEKhxB",
        "colab_type": "text"
      },
      "source": [
        "11 - Identificando as acomodações mais bem avaliadas que permitem serem reservadas por uma noite no bairro de Midtown"
      ]
    },
    {
      "cell_type": "code",
      "metadata": {
        "id": "YiqBYWPtKvdX",
        "colab_type": "code",
        "colab": {}
      },
      "source": [
        "one_night_most_rated = most_rated_per_neigborhood[(most_rated_per_neigborhood['neighbourhood'] == 'Midtown') & (most_rated_per_neigborhood['minimum_nights'] == 1)]\n",
        "one_night_most_rated = one_night_most_rated.sort_values(by=['price'])"
      ],
      "execution_count": 0,
      "outputs": []
    }
  ]
}